{
  "nbformat": 4,
  "nbformat_minor": 0,
  "metadata": {
    "accelerator": "GPU",
    "colab": {
      "name": "l05c01_dogs_vs_cats_without_augmentation.ipynb",
      "provenance": [],
      "collapsed_sections": [],
      "toc_visible": true
    },
    "kernelspec": {
      "display_name": "Python 3",
      "name": "python3"
    }
  },
  "cells": [
    {
      "cell_type": "markdown",
      "metadata": {
        "id": "TBFXQGKYUc4X"
      },
      "source": [
        "##### Copyright 2019 The TensorFlow Authors."
      ]
    },
    {
      "cell_type": "code",
      "metadata": {
        "cellView": "form",
        "id": "1z4xy2gTUc4a"
      },
      "source": [
        "#@title Licensed under the Apache License, Version 2.0 (the \"License\");\n",
        "# you may not use this file except in compliance with the License.\n",
        "# You may obtain a copy of the License at\n",
        "#\n",
        "# https://www.apache.org/licenses/LICENSE-2.0\n",
        "#\n",
        "# Unless required by applicable law or agreed to in writing, software\n",
        "# distributed under the License is distributed on an \"AS IS\" BASIS,\n",
        "# WITHOUT WARRANTIES OR CONDITIONS OF ANY KIND, either express or implied.\n",
        "# See the License for the specific language governing permissions and\n",
        "# limitations under the License."
      ],
      "execution_count": null,
      "outputs": []
    },
    {
      "cell_type": "markdown",
      "metadata": {
        "id": "FE7KNzPPVrVV"
      },
      "source": [
        "# Dogs vs Cats Image Classification Without Image Augmentation"
      ]
    },
    {
      "cell_type": "markdown",
      "metadata": {
        "id": "KwQtSOz0VrVX"
      },
      "source": [
        "<table class=\"tfo-notebook-buttons\" align=\"left\">\n",
        "  <td>\n",
        "    <a target=\"_blank\" href=\"https://colab.research.google.com/github/tensorflow/examples/blob/master/courses/udacity_intro_to_tensorflow_for_deep_learning/l05c01_dogs_vs_cats_without_augmentation.ipynb\"><img src=\"https://www.tensorflow.org/images/colab_logo_32px.png\" />Run in Google Colab</a>\n",
        "  </td>\n",
        "  <td>\n",
        "    <a target=\"_blank\" href=\"https://github.com/tensorflow/examples/blob/master/courses/udacity_intro_to_tensorflow_for_deep_learning/l05c01_dogs_vs_cats_without_augmentation.ipynb\"><img src=\"https://www.tensorflow.org/images/GitHub-Mark-32px.png\" />View source on GitHub</a>\n",
        "  </td>\n",
        "</table>"
      ]
    },
    {
      "cell_type": "markdown",
      "metadata": {
        "id": "gN7G9GFmVrVY"
      },
      "source": [
        "In this tutorial, we will discuss how to classify images into pictures of cats or pictures of dogs. We'll build an image classifier using `tf.keras.Sequential` model and load data using `tf.keras.preprocessing.image.ImageDataGenerator`.\n",
        "\n",
        "## Specific concepts that will be covered:\n",
        "In the process, we will build practical experience and develop intuition around the following concepts\n",
        "\n",
        "* Building _data input pipelines_ using the `tf.keras.preprocessing.image.ImageDataGenerator` class — How can we efficiently work with data on disk to interface with our model?\n",
        "* _Overfitting_ - what is it, how to identify it?\n",
        "\n",
        "<hr>\n",
        "\n",
        "\n",
        "**Before you begin**\n",
        "\n",
        "Before running the code in this notebook, reset the runtime by going to **Runtime -> Reset all runtimes** in the menu above. If you have been working through several notebooks, this will help you avoid reaching Colab's memory limits.\n"
      ]
    },
    {
      "cell_type": "markdown",
      "metadata": {
        "id": "zF9uvbXNVrVY"
      },
      "source": [
        "# Importing packages"
      ]
    },
    {
      "cell_type": "markdown",
      "metadata": {
        "id": "VddxeYBEVrVZ"
      },
      "source": [
        "Let's start by importing required packages:\n",
        "\n",
        "*   os — to read files and directory structure\n",
        "*   numpy — for some matrix math outside of TensorFlow\n",
        "*   matplotlib.pyplot — to plot the graph and display images in our training and validation data\n"
      ]
    },
    {
      "cell_type": "code",
      "metadata": {
        "id": "oSdjGwVWGshH"
      },
      "source": [
        "import tensorflow as tf"
      ],
      "execution_count": 1,
      "outputs": []
    },
    {
      "cell_type": "code",
      "metadata": {
        "id": "nlORkUyFGxWH"
      },
      "source": [
        "from tensorflow.keras.preprocessing.image import ImageDataGenerator"
      ],
      "execution_count": 2,
      "outputs": []
    },
    {
      "cell_type": "code",
      "metadata": {
        "id": "wqtiIPRbG4FA"
      },
      "source": [
        "import os\n",
        "import matplotlib.pyplot as plt\n",
        "import numpy as np"
      ],
      "execution_count": 3,
      "outputs": []
    },
    {
      "cell_type": "code",
      "metadata": {
        "id": "GHHqtPisG3R1"
      },
      "source": [
        "import logging\n",
        "logger = tf.get_logger()\n",
        "logger.setLevel(logging.ERROR)"
      ],
      "execution_count": 4,
      "outputs": []
    },
    {
      "cell_type": "markdown",
      "metadata": {
        "id": "UZZI6lNkVrVm"
      },
      "source": [
        "# Data Loading"
      ]
    },
    {
      "cell_type": "markdown",
      "metadata": {
        "id": "DPHx8-t-VrVo"
      },
      "source": [
        "To build our image classifier, we begin by downloading the dataset. The dataset we are using is a filtered version of <a href=\"https://www.kaggle.com/c/dogs-vs-cats/data\" target=\"_blank\">Dogs vs. Cats</a> dataset from Kaggle (ultimately, this dataset is provided by Microsoft Research).\n",
        "\n",
        "In previous Colabs, we've used <a href=\"https://www.tensorflow.org/datasets\" target=\"_blank\">TensorFlow Datasets</a>, which is a very easy and convenient way to use datasets. In this Colab however, we will make use of the class `tf.keras.preprocessing.image.ImageDataGenerator` which will read data from disk. We therefore need to directly download *Dogs vs. Cats* from a URL and unzip it to the Colab filesystem."
      ]
    },
    {
      "cell_type": "code",
      "metadata": {
        "id": "rpUSoFjuVrVp",
        "outputId": "697fe6d6-3ab3-4a37-9e3d-7df8bb4c03f2",
        "colab": {
          "base_uri": "https://localhost:8080/"
        }
      },
      "source": [
        "_URL = 'https://storage.googleapis.com/mledu-datasets/cats_and_dogs_filtered.zip'\n",
        "zip_dir = tf.keras.utils.get_file('cats_and_dogs_filterted.zip', origin=_URL, extract=True)"
      ],
      "execution_count": 5,
      "outputs": [
        {
          "output_type": "stream",
          "name": "stdout",
          "text": [
            "Downloading data from https://storage.googleapis.com/mledu-datasets/cats_and_dogs_filtered.zip\n",
            "68608000/68606236 [==============================] - 1s 0us/step\n",
            "68616192/68606236 [==============================] - 1s 0us/step\n"
          ]
        }
      ]
    },
    {
      "cell_type": "markdown",
      "metadata": {
        "id": "Giv0wMQzVrVw"
      },
      "source": [
        "The dataset we have downloaded has the following directory structure.\n",
        "\n",
        "<pre style=\"font-size: 10.0pt; font-family: Arial; line-height: 2; letter-spacing: 1.0pt;\" >\n",
        "<b>cats_and_dogs_filtered</b>\n",
        "|__ <b>train</b>\n",
        "    |______ <b>cats</b>: [cat.0.jpg, cat.1.jpg, cat.2.jpg ...]\n",
        "    |______ <b>dogs</b>: [dog.0.jpg, dog.1.jpg, dog.2.jpg ...]\n",
        "|__ <b>validation</b>\n",
        "    |______ <b>cats</b>: [cat.2000.jpg, cat.2001.jpg, cat.2002.jpg ...]\n",
        "    |______ <b>dogs</b>: [dog.2000.jpg, dog.2001.jpg, dog.2002.jpg ...]\n",
        "</pre>\n",
        "\n",
        "We can list the directories with the following terminal command:"
      ]
    },
    {
      "cell_type": "code",
      "metadata": {
        "id": "ssD23VbTZeVA",
        "outputId": "cb50ec13-49bd-4595-b55b-4df4e6736033",
        "colab": {
          "base_uri": "https://localhost:8080/"
        }
      },
      "source": [
        "zip_dir_base = os.path.dirname(zip_dir)\n",
        "!find $zip_dir_base -type d -print"
      ],
      "execution_count": 6,
      "outputs": [
        {
          "output_type": "stream",
          "name": "stdout",
          "text": [
            "/root/.keras/datasets\n",
            "/root/.keras/datasets/cats_and_dogs_filtered\n",
            "/root/.keras/datasets/cats_and_dogs_filtered/train\n",
            "/root/.keras/datasets/cats_and_dogs_filtered/train/dogs\n",
            "/root/.keras/datasets/cats_and_dogs_filtered/train/cats\n",
            "/root/.keras/datasets/cats_and_dogs_filtered/validation\n",
            "/root/.keras/datasets/cats_and_dogs_filtered/validation/dogs\n",
            "/root/.keras/datasets/cats_and_dogs_filtered/validation/cats\n"
          ]
        }
      ]
    },
    {
      "cell_type": "markdown",
      "metadata": {
        "id": "VpmywIlsVrVx"
      },
      "source": [
        "We'll now assign variables with the proper file path for the training and validation sets."
      ]
    },
    {
      "cell_type": "code",
      "metadata": {
        "id": "sRucI3QqVrVy"
      },
      "source": [
        "base_dir = os.path.join(os.path.dirname(zip_dir), 'cats_and_dogs_filtered')\n",
        "train_dir = os.path.join(base_dir, 'train')\n",
        "validation_dir = os.path.join(base_dir, 'validation')\n",
        "\n",
        "train_cats_dir = os.path.join(train_dir, 'cats')  # directory with our training cat pictures\n",
        "train_dogs_dir = os.path.join(train_dir, 'dogs')  # directory with our training dog pictures\n",
        "validation_cats_dir = os.path.join(validation_dir, 'cats')  # directory with our validation cat pictures\n",
        "validation_dogs_dir = os.path.join(validation_dir, 'dogs')  # directory with our validation dog pictures"
      ],
      "execution_count": 7,
      "outputs": []
    },
    {
      "cell_type": "markdown",
      "metadata": {
        "id": "ZdrHHTy2VrV3"
      },
      "source": [
        "### Understanding our data"
      ]
    },
    {
      "cell_type": "markdown",
      "metadata": {
        "id": "LblUYjl-VrV3"
      },
      "source": [
        "Let's look at how many cats and dogs images we have in our training and validation directory"
      ]
    },
    {
      "cell_type": "code",
      "metadata": {
        "id": "vc4u8e9hVrV4"
      },
      "source": [
        "num_cats_tr = len(os.listdir(train_cats_dir))\n",
        "num_dogs_tr = len(os.listdir(train_dogs_dir))\n",
        "\n",
        "num_cats_val = len(os.listdir(validation_cats_dir))\n",
        "num_dogs_val = len(os.listdir(validation_dogs_dir))\n",
        "\n",
        "total_train = num_cats_tr + num_dogs_tr\n",
        "total_val = num_cats_val + num_dogs_val"
      ],
      "execution_count": 8,
      "outputs": []
    },
    {
      "cell_type": "code",
      "metadata": {
        "id": "g4GGzGt0VrV7",
        "outputId": "a9e2e4c8-3752-4071-d1cf-5431b3bed29b",
        "colab": {
          "base_uri": "https://localhost:8080/"
        }
      },
      "source": [
        "print('total training cat images:', num_cats_tr)\n",
        "print('total training dog images:', num_dogs_tr)\n",
        "\n",
        "print('total validation cat images:', num_cats_val)\n",
        "print('total validation dog images:', num_dogs_val)\n",
        "print(\"--\")\n",
        "print(\"Total training images:\", total_train)\n",
        "print(\"Total validation images:\", total_val)"
      ],
      "execution_count": 9,
      "outputs": [
        {
          "output_type": "stream",
          "name": "stdout",
          "text": [
            "total training cat images: 1000\n",
            "total training dog images: 1000\n",
            "total validation cat images: 500\n",
            "total validation dog images: 500\n",
            "--\n",
            "Total training images: 2000\n",
            "Total validation images: 1000\n"
          ]
        }
      ]
    },
    {
      "cell_type": "markdown",
      "metadata": {
        "id": "tdsI_L-NVrV_"
      },
      "source": [
        "# Setting Model Parameters"
      ]
    },
    {
      "cell_type": "markdown",
      "metadata": {
        "id": "8Lp-0ejxOtP1"
      },
      "source": [
        "For convenience, we'll set up variables that will be used later while pre-processing our dataset and training our network."
      ]
    },
    {
      "cell_type": "code",
      "metadata": {
        "id": "3NqNselLVrWA"
      },
      "source": [
        "BATCH_SIZE = 100  # Number of training examples to process before updating our models variables\n",
        "IMG_SHAPE  = 150  # Our training data consists of images with width of 150 pixels and height of 150 pixels"
      ],
      "execution_count": 10,
      "outputs": []
    },
    {
      "cell_type": "markdown",
      "metadata": {
        "id": "INn-cOn1VrWC"
      },
      "source": [
        "# Data Preparation "
      ]
    },
    {
      "cell_type": "markdown",
      "metadata": {
        "id": "5Jfk6aSAVrWD"
      },
      "source": [
        "Images must be formatted into appropriately pre-processed floating point tensors before being fed into the network. The steps involved in preparing these images are:\n",
        "\n",
        "1. Read images from the disk\n",
        "2. Decode contents of these images and convert it into proper grid format as per their RGB content\n",
        "3. Convert them into floating point tensors\n",
        "4. Rescale the tensors from values between 0 and 255 to values between 0 and 1, as neural networks prefer to deal with small input values.\n",
        "\n",
        "Fortunately, all these tasks can be done using the class **tf.keras.preprocessing.image.ImageDataGenerator**.\n",
        "\n",
        "We can set this up in a couple of lines of code."
      ]
    },
    {
      "cell_type": "code",
      "metadata": {
        "id": "syDdF_LWVrWE"
      },
      "source": [
        "train_image_generator      = ImageDataGenerator(rescale=1./255)  # Generator for our training data\n",
        "validation_image_generator = ImageDataGenerator(rescale=1./255)  # Generator for our validation data"
      ],
      "execution_count": 11,
      "outputs": []
    },
    {
      "cell_type": "markdown",
      "metadata": {
        "id": "RLciCR_FVrWH"
      },
      "source": [
        "After defining our generators for training and validation images, **flow_from_directory** method will load images from the disk, apply rescaling, and resize them using single line of code."
      ]
    },
    {
      "cell_type": "code",
      "metadata": {
        "id": "Pw94ajOOVrWI",
        "outputId": "038d9d2c-64d3-44f6-e51d-ddb2d83e7a7e",
        "colab": {
          "base_uri": "https://localhost:8080/"
        }
      },
      "source": [
        "train_data_gen = train_image_generator.flow_from_directory(batch_size=BATCH_SIZE,\n",
        "                                                           directory=train_dir,\n",
        "                                                           shuffle=True,\n",
        "                                                           target_size=(IMG_SHAPE,IMG_SHAPE), #(150,150)\n",
        "                                                           class_mode='binary')"
      ],
      "execution_count": 12,
      "outputs": [
        {
          "output_type": "stream",
          "name": "stdout",
          "text": [
            "Found 2000 images belonging to 2 classes.\n"
          ]
        }
      ]
    },
    {
      "cell_type": "code",
      "metadata": {
        "id": "2oUoKUzRVrWM",
        "outputId": "b92378e0-c503-4407-faff-ec317b219aee",
        "colab": {
          "base_uri": "https://localhost:8080/"
        }
      },
      "source": [
        "val_data_gen = validation_image_generator.flow_from_directory(batch_size=BATCH_SIZE,\n",
        "                                                              directory=validation_dir,\n",
        "                                                              shuffle=False,\n",
        "                                                              target_size=(IMG_SHAPE,IMG_SHAPE), #(150,150)\n",
        "                                                              class_mode='binary')"
      ],
      "execution_count": 13,
      "outputs": [
        {
          "output_type": "stream",
          "name": "stdout",
          "text": [
            "Found 1000 images belonging to 2 classes.\n"
          ]
        }
      ]
    },
    {
      "cell_type": "markdown",
      "metadata": {
        "id": "hyexPJ8CVrWP"
      },
      "source": [
        "### Visualizing Training images"
      ]
    },
    {
      "cell_type": "markdown",
      "metadata": {
        "id": "60CnhEL4VrWQ"
      },
      "source": [
        "We can visualize our training images by getting a batch of images from the training generator, and then plotting a few of them using `matplotlib`."
      ]
    },
    {
      "cell_type": "code",
      "metadata": {
        "id": "3f0Z7NZgVrWQ"
      },
      "source": [
        "sample_training_images, _ = next(train_data_gen) "
      ],
      "execution_count": null,
      "outputs": []
    },
    {
      "cell_type": "markdown",
      "metadata": {
        "id": "49weMt5YVrWT"
      },
      "source": [
        "The `next` function returns a batch from the dataset. One batch is a tuple of (*many images*, *many labels*). For right now, we're discarding the labels because we just want to look at the images."
      ]
    },
    {
      "cell_type": "code",
      "metadata": {
        "id": "JMt2RES_VrWU"
      },
      "source": [
        "# This function will plot images in the form of a grid with 1 row and 5 columns where images are placed in each column.\n",
        "def plotImages(images_arr):\n",
        "    fig, axes = plt.subplots(1, 5, figsize=(20,20))\n",
        "    axes = axes.flatten()\n",
        "    for img, ax in zip(images_arr, axes):\n",
        "        ax.imshow(img)\n",
        "    plt.tight_layout()\n",
        "    plt.show()"
      ],
      "execution_count": 14,
      "outputs": []
    },
    {
      "cell_type": "code",
      "metadata": {
        "id": "d_VVg_gEVrWW",
        "outputId": "8e32d91d-b1b7-436f-fa9d-a349468fa41e",
        "colab": {
          "base_uri": "https://localhost:8080/"
        }
      },
      "source": [
        "plotImages(sample_training_images[:5])  # Plot images 0-4"
      ],
      "execution_count": 15,
      "outputs": [
        {
          "output_type": "error",
          "ename": "NameError",
          "evalue": "ignored",
          "traceback": [
            "\u001b[0;31m---------------------------------------------------------------------------\u001b[0m",
            "\u001b[0;31mNameError\u001b[0m                                 Traceback (most recent call last)",
            "\u001b[0;32m<ipython-input-15-5f87f73c8cb8>\u001b[0m in \u001b[0;36m<module>\u001b[0;34m()\u001b[0m\n\u001b[0;32m----> 1\u001b[0;31m \u001b[0mplotImages\u001b[0m\u001b[0;34m(\u001b[0m\u001b[0msample_training_images\u001b[0m\u001b[0;34m[\u001b[0m\u001b[0;34m:\u001b[0m\u001b[0;36m5\u001b[0m\u001b[0;34m]\u001b[0m\u001b[0;34m)\u001b[0m  \u001b[0;31m# Plot images 0-4\u001b[0m\u001b[0;34m\u001b[0m\u001b[0;34m\u001b[0m\u001b[0m\n\u001b[0m",
            "\u001b[0;31mNameError\u001b[0m: name 'sample_training_images' is not defined"
          ]
        }
      ]
    },
    {
      "cell_type": "markdown",
      "metadata": {
        "id": "b5Ej-HLGVrWZ"
      },
      "source": [
        "# Model Creation"
      ]
    },
    {
      "cell_type": "markdown",
      "metadata": {
        "id": "wEgW4i18VrWZ"
      },
      "source": [
        "## Define the model\n",
        "\n",
        "The model consists of four convolution blocks with a max pool layer in each of them. Then we have a fully connected layer with 512 units, with a `relu` activation function. The model will output class probabilities for two classes — dogs and cats — using `softmax`. "
      ]
    },
    {
      "cell_type": "code",
      "metadata": {
        "id": "F15-uwLPVrWa"
      },
      "source": [
        "model = tf.keras.models.Sequential([\n",
        "    tf.keras.layers.Conv2D(32, (3,3), activation='relu', input_shape=(150, 150, 3)),\n",
        "    tf.keras.layers.MaxPooling2D(2, 2),\n",
        "\n",
        "    tf.keras.layers.Conv2D(64, (3,3), activation='relu'),\n",
        "    tf.keras.layers.MaxPooling2D(2,2),\n",
        "    \n",
        "    tf.keras.layers.Conv2D(128, (3,3), activation='relu'),\n",
        "    tf.keras.layers.MaxPooling2D(2,2),\n",
        "    \n",
        "    tf.keras.layers.Conv2D(128, (3,3), activation='relu'),\n",
        "    tf.keras.layers.MaxPooling2D(2,2),\n",
        "    \n",
        "    tf.keras.layers.Flatten(),\n",
        "    tf.keras.layers.Dense(512, activation='relu'),\n",
        "    tf.keras.layers.Dense(2)\n",
        "])"
      ],
      "execution_count": 17,
      "outputs": []
    },
    {
      "cell_type": "markdown",
      "metadata": {
        "id": "PI5cdkMQVrWc"
      },
      "source": [
        "### Compile the model\n",
        "\n",
        "As usual, we will use the `adam` optimizer. Since we output a softmax categorization, we'll use `sparse_categorical_crossentropy` as the loss function. We would also like to look at training and validation accuracy on each epoch as we train our network, so we are passing in the metrics argument."
      ]
    },
    {
      "cell_type": "code",
      "metadata": {
        "id": "6Mg7_TXOVrWd"
      },
      "source": [
        "model.compile(optimizer='adam',\n",
        "              loss=tf.keras.losses.SparseCategoricalCrossentropy(from_logits=True),\n",
        "              metrics=['accuracy'])"
      ],
      "execution_count": 18,
      "outputs": []
    },
    {
      "cell_type": "markdown",
      "metadata": {
        "id": "2YmQZ3TAVrWg"
      },
      "source": [
        "### Model Summary\n",
        "\n",
        "Let's look at all the layers of our network using **summary** method."
      ]
    },
    {
      "cell_type": "code",
      "metadata": {
        "id": "Vtny8hmBVrWh",
        "outputId": "cdf86ac3-ea72-4047-c35e-390effb34bc4",
        "colab": {
          "base_uri": "https://localhost:8080/"
        }
      },
      "source": [
        "model.summary()"
      ],
      "execution_count": 19,
      "outputs": [
        {
          "output_type": "stream",
          "name": "stdout",
          "text": [
            "Model: \"sequential_1\"\n",
            "_________________________________________________________________\n",
            "Layer (type)                 Output Shape              Param #   \n",
            "=================================================================\n",
            "conv2d_4 (Conv2D)            (None, 148, 148, 32)      896       \n",
            "_________________________________________________________________\n",
            "max_pooling2d_4 (MaxPooling2 (None, 74, 74, 32)        0         \n",
            "_________________________________________________________________\n",
            "conv2d_5 (Conv2D)            (None, 72, 72, 64)        18496     \n",
            "_________________________________________________________________\n",
            "max_pooling2d_5 (MaxPooling2 (None, 36, 36, 64)        0         \n",
            "_________________________________________________________________\n",
            "conv2d_6 (Conv2D)            (None, 34, 34, 128)       73856     \n",
            "_________________________________________________________________\n",
            "max_pooling2d_6 (MaxPooling2 (None, 17, 17, 128)       0         \n",
            "_________________________________________________________________\n",
            "conv2d_7 (Conv2D)            (None, 15, 15, 128)       147584    \n",
            "_________________________________________________________________\n",
            "max_pooling2d_7 (MaxPooling2 (None, 7, 7, 128)         0         \n",
            "_________________________________________________________________\n",
            "flatten_1 (Flatten)          (None, 6272)              0         \n",
            "_________________________________________________________________\n",
            "dense_2 (Dense)              (None, 512)               3211776   \n",
            "_________________________________________________________________\n",
            "dense_3 (Dense)              (None, 2)                 1026      \n",
            "=================================================================\n",
            "Total params: 3,453,634\n",
            "Trainable params: 3,453,634\n",
            "Non-trainable params: 0\n",
            "_________________________________________________________________\n"
          ]
        }
      ]
    },
    {
      "cell_type": "markdown",
      "metadata": {
        "id": "N06iqE8VVrWj"
      },
      "source": [
        "### Train the model"
      ]
    },
    {
      "cell_type": "markdown",
      "metadata": {
        "id": "oub9RtoFVrWk"
      },
      "source": [
        "It's time we train our network.\n",
        "\n",
        "Since our batches are coming from a generator (`ImageDataGenerator`), we'll use `fit_generator` instead of `fit`."
      ]
    },
    {
      "cell_type": "code",
      "metadata": {
        "id": "KSF2HqhDVrWk",
        "outputId": "fb967b01-3825-4479-c333-67bf991b374c",
        "colab": {
          "base_uri": "https://localhost:8080/"
        }
      },
      "source": [
        "EPOCHS = 100\n",
        "history = model.fit_generator(\n",
        "    train_data_gen,\n",
        "    steps_per_epoch=int(np.ceil(total_train / float(BATCH_SIZE))),\n",
        "    epochs=EPOCHS,\n",
        "    validation_data=val_data_gen,\n",
        "    validation_steps=int(np.ceil(total_val / float(BATCH_SIZE)))\n",
        ")"
      ],
      "execution_count": 20,
      "outputs": [
        {
          "output_type": "stream",
          "name": "stderr",
          "text": [
            "/usr/local/lib/python3.7/dist-packages/keras/engine/training.py:1972: UserWarning: `Model.fit_generator` is deprecated and will be removed in a future version. Please use `Model.fit`, which supports generators.\n",
            "  warnings.warn('`Model.fit_generator` is deprecated and '\n"
          ]
        },
        {
          "output_type": "stream",
          "name": "stdout",
          "text": [
            "Epoch 1/100\n",
            "20/20 [==============================] - 42s 517ms/step - loss: 0.7440 - accuracy: 0.4975 - val_loss: 0.6944 - val_accuracy: 0.5000\n",
            "Epoch 2/100\n",
            "20/20 [==============================] - 10s 496ms/step - loss: 0.6931 - accuracy: 0.5000 - val_loss: 0.6918 - val_accuracy: 0.5000\n",
            "Epoch 3/100\n",
            "20/20 [==============================] - 10s 495ms/step - loss: 0.6840 - accuracy: 0.5545 - val_loss: 0.6727 - val_accuracy: 0.5950\n",
            "Epoch 4/100\n",
            "20/20 [==============================] - 10s 494ms/step - loss: 0.6835 - accuracy: 0.5585 - val_loss: 0.6479 - val_accuracy: 0.6460\n",
            "Epoch 5/100\n",
            "20/20 [==============================] - 10s 490ms/step - loss: 0.6399 - accuracy: 0.6330 - val_loss: 0.6195 - val_accuracy: 0.6680\n",
            "Epoch 6/100\n",
            "20/20 [==============================] - 10s 495ms/step - loss: 0.6182 - accuracy: 0.6640 - val_loss: 0.6645 - val_accuracy: 0.6330\n",
            "Epoch 7/100\n",
            "20/20 [==============================] - 10s 492ms/step - loss: 0.5791 - accuracy: 0.6965 - val_loss: 0.6020 - val_accuracy: 0.6700\n",
            "Epoch 8/100\n",
            "20/20 [==============================] - 10s 495ms/step - loss: 0.5394 - accuracy: 0.7175 - val_loss: 0.5802 - val_accuracy: 0.6910\n",
            "Epoch 9/100\n",
            "20/20 [==============================] - 10s 497ms/step - loss: 0.5056 - accuracy: 0.7620 - val_loss: 0.5662 - val_accuracy: 0.7030\n",
            "Epoch 10/100\n",
            "20/20 [==============================] - 10s 500ms/step - loss: 0.4662 - accuracy: 0.7850 - val_loss: 0.5467 - val_accuracy: 0.7300\n",
            "Epoch 11/100\n",
            "20/20 [==============================] - 12s 610ms/step - loss: 0.4205 - accuracy: 0.7960 - val_loss: 0.6124 - val_accuracy: 0.7090\n",
            "Epoch 12/100\n",
            "20/20 [==============================] - 10s 502ms/step - loss: 0.4066 - accuracy: 0.8200 - val_loss: 0.5477 - val_accuracy: 0.7430\n",
            "Epoch 13/100\n",
            "20/20 [==============================] - 10s 501ms/step - loss: 0.3469 - accuracy: 0.8465 - val_loss: 0.6563 - val_accuracy: 0.7070\n",
            "Epoch 14/100\n",
            "20/20 [==============================] - 10s 496ms/step - loss: 0.3303 - accuracy: 0.8540 - val_loss: 0.5541 - val_accuracy: 0.7430\n",
            "Epoch 15/100\n",
            "20/20 [==============================] - 10s 495ms/step - loss: 0.2386 - accuracy: 0.9000 - val_loss: 0.6252 - val_accuracy: 0.7410\n",
            "Epoch 16/100\n",
            "20/20 [==============================] - 10s 498ms/step - loss: 0.2051 - accuracy: 0.9190 - val_loss: 0.6233 - val_accuracy: 0.7470\n",
            "Epoch 17/100\n",
            "20/20 [==============================] - 10s 494ms/step - loss: 0.1543 - accuracy: 0.9400 - val_loss: 0.7178 - val_accuracy: 0.7550\n",
            "Epoch 18/100\n",
            "20/20 [==============================] - 10s 501ms/step - loss: 0.1296 - accuracy: 0.9520 - val_loss: 0.8124 - val_accuracy: 0.7400\n",
            "Epoch 19/100\n",
            "20/20 [==============================] - 10s 498ms/step - loss: 0.0986 - accuracy: 0.9710 - val_loss: 0.8912 - val_accuracy: 0.7580\n",
            "Epoch 20/100\n",
            "20/20 [==============================] - 10s 496ms/step - loss: 0.0788 - accuracy: 0.9755 - val_loss: 0.8854 - val_accuracy: 0.7610\n",
            "Epoch 21/100\n",
            "20/20 [==============================] - 10s 500ms/step - loss: 0.0751 - accuracy: 0.9725 - val_loss: 0.9364 - val_accuracy: 0.7400\n",
            "Epoch 22/100\n",
            "20/20 [==============================] - 10s 499ms/step - loss: 0.0402 - accuracy: 0.9860 - val_loss: 0.9918 - val_accuracy: 0.7530\n",
            "Epoch 23/100\n",
            "20/20 [==============================] - 10s 500ms/step - loss: 0.0418 - accuracy: 0.9855 - val_loss: 1.1325 - val_accuracy: 0.7450\n",
            "Epoch 24/100\n",
            "20/20 [==============================] - 10s 497ms/step - loss: 0.0458 - accuracy: 0.9850 - val_loss: 1.0698 - val_accuracy: 0.7570\n",
            "Epoch 25/100\n",
            "20/20 [==============================] - 10s 499ms/step - loss: 0.0186 - accuracy: 0.9950 - val_loss: 1.1805 - val_accuracy: 0.7530\n",
            "Epoch 26/100\n",
            "20/20 [==============================] - 10s 505ms/step - loss: 0.0114 - accuracy: 0.9970 - val_loss: 1.2511 - val_accuracy: 0.7750\n",
            "Epoch 27/100\n",
            "20/20 [==============================] - 10s 498ms/step - loss: 0.0163 - accuracy: 0.9955 - val_loss: 1.2923 - val_accuracy: 0.7560\n",
            "Epoch 28/100\n",
            "20/20 [==============================] - 10s 502ms/step - loss: 0.0139 - accuracy: 0.9950 - val_loss: 1.3689 - val_accuracy: 0.7660\n",
            "Epoch 29/100\n",
            "20/20 [==============================] - 10s 501ms/step - loss: 0.0077 - accuracy: 0.9985 - val_loss: 1.5206 - val_accuracy: 0.7510\n",
            "Epoch 30/100\n",
            "20/20 [==============================] - 10s 498ms/step - loss: 0.0049 - accuracy: 0.9990 - val_loss: 1.3774 - val_accuracy: 0.7720\n",
            "Epoch 31/100\n",
            "20/20 [==============================] - 10s 501ms/step - loss: 0.0054 - accuracy: 0.9985 - val_loss: 1.3376 - val_accuracy: 0.7700\n",
            "Epoch 32/100\n",
            "20/20 [==============================] - 10s 498ms/step - loss: 0.0109 - accuracy: 0.9970 - val_loss: 1.6559 - val_accuracy: 0.7350\n",
            "Epoch 33/100\n",
            "20/20 [==============================] - 10s 499ms/step - loss: 0.0356 - accuracy: 0.9860 - val_loss: 1.3728 - val_accuracy: 0.7640\n",
            "Epoch 34/100\n",
            "20/20 [==============================] - 10s 497ms/step - loss: 0.0511 - accuracy: 0.9785 - val_loss: 1.2695 - val_accuracy: 0.7320\n",
            "Epoch 35/100\n",
            "20/20 [==============================] - 10s 504ms/step - loss: 0.0344 - accuracy: 0.9865 - val_loss: 1.2252 - val_accuracy: 0.7490\n",
            "Epoch 36/100\n",
            "20/20 [==============================] - 10s 505ms/step - loss: 0.0188 - accuracy: 0.9945 - val_loss: 1.2946 - val_accuracy: 0.7690\n",
            "Epoch 37/100\n",
            "20/20 [==============================] - 10s 498ms/step - loss: 0.0107 - accuracy: 0.9975 - val_loss: 1.3272 - val_accuracy: 0.7440\n",
            "Epoch 38/100\n",
            "20/20 [==============================] - 10s 497ms/step - loss: 0.0097 - accuracy: 0.9970 - val_loss: 1.3864 - val_accuracy: 0.7690\n",
            "Epoch 39/100\n",
            "20/20 [==============================] - 10s 501ms/step - loss: 0.0019 - accuracy: 1.0000 - val_loss: 1.4723 - val_accuracy: 0.7650\n",
            "Epoch 40/100\n",
            "20/20 [==============================] - 10s 503ms/step - loss: 5.7503e-04 - accuracy: 1.0000 - val_loss: 1.5108 - val_accuracy: 0.7680\n",
            "Epoch 41/100\n",
            "20/20 [==============================] - 10s 510ms/step - loss: 3.5732e-04 - accuracy: 1.0000 - val_loss: 1.5377 - val_accuracy: 0.7640\n",
            "Epoch 42/100\n",
            "20/20 [==============================] - 10s 506ms/step - loss: 2.7438e-04 - accuracy: 1.0000 - val_loss: 1.5574 - val_accuracy: 0.7660\n",
            "Epoch 43/100\n",
            "20/20 [==============================] - 10s 507ms/step - loss: 2.3144e-04 - accuracy: 1.0000 - val_loss: 1.5754 - val_accuracy: 0.7680\n",
            "Epoch 44/100\n",
            "20/20 [==============================] - 10s 502ms/step - loss: 2.0179e-04 - accuracy: 1.0000 - val_loss: 1.5921 - val_accuracy: 0.7680\n",
            "Epoch 45/100\n",
            "20/20 [==============================] - 10s 508ms/step - loss: 1.7815e-04 - accuracy: 1.0000 - val_loss: 1.6048 - val_accuracy: 0.7680\n",
            "Epoch 46/100\n",
            "20/20 [==============================] - 10s 509ms/step - loss: 1.5959e-04 - accuracy: 1.0000 - val_loss: 1.6173 - val_accuracy: 0.7680\n",
            "Epoch 47/100\n",
            "20/20 [==============================] - 10s 501ms/step - loss: 1.4512e-04 - accuracy: 1.0000 - val_loss: 1.6307 - val_accuracy: 0.7680\n",
            "Epoch 48/100\n",
            "20/20 [==============================] - 10s 501ms/step - loss: 1.3262e-04 - accuracy: 1.0000 - val_loss: 1.6429 - val_accuracy: 0.7660\n",
            "Epoch 49/100\n",
            "20/20 [==============================] - 10s 503ms/step - loss: 1.2139e-04 - accuracy: 1.0000 - val_loss: 1.6538 - val_accuracy: 0.7670\n",
            "Epoch 50/100\n",
            "20/20 [==============================] - 10s 504ms/step - loss: 1.1243e-04 - accuracy: 1.0000 - val_loss: 1.6628 - val_accuracy: 0.7660\n",
            "Epoch 51/100\n",
            "20/20 [==============================] - 10s 502ms/step - loss: 1.0397e-04 - accuracy: 1.0000 - val_loss: 1.6745 - val_accuracy: 0.7670\n",
            "Epoch 52/100\n",
            "20/20 [==============================] - 10s 501ms/step - loss: 9.5908e-05 - accuracy: 1.0000 - val_loss: 1.6861 - val_accuracy: 0.7670\n",
            "Epoch 53/100\n",
            "20/20 [==============================] - 10s 501ms/step - loss: 8.8586e-05 - accuracy: 1.0000 - val_loss: 1.6985 - val_accuracy: 0.7690\n",
            "Epoch 54/100\n",
            "20/20 [==============================] - 10s 499ms/step - loss: 8.2320e-05 - accuracy: 1.0000 - val_loss: 1.7061 - val_accuracy: 0.7690\n",
            "Epoch 55/100\n",
            "20/20 [==============================] - 10s 502ms/step - loss: 7.5715e-05 - accuracy: 1.0000 - val_loss: 1.7201 - val_accuracy: 0.7700\n",
            "Epoch 56/100\n",
            "20/20 [==============================] - 10s 502ms/step - loss: 7.0368e-05 - accuracy: 1.0000 - val_loss: 1.7246 - val_accuracy: 0.7710\n",
            "Epoch 57/100\n",
            "20/20 [==============================] - 10s 495ms/step - loss: 6.4824e-05 - accuracy: 1.0000 - val_loss: 1.7351 - val_accuracy: 0.7720\n",
            "Epoch 58/100\n",
            "20/20 [==============================] - 10s 500ms/step - loss: 5.9707e-05 - accuracy: 1.0000 - val_loss: 1.7490 - val_accuracy: 0.7750\n",
            "Epoch 59/100\n",
            "20/20 [==============================] - 10s 499ms/step - loss: 5.6240e-05 - accuracy: 1.0000 - val_loss: 1.7497 - val_accuracy: 0.7710\n",
            "Epoch 60/100\n",
            "20/20 [==============================] - 10s 500ms/step - loss: 5.1643e-05 - accuracy: 1.0000 - val_loss: 1.7639 - val_accuracy: 0.7750\n",
            "Epoch 61/100\n",
            "20/20 [==============================] - 10s 503ms/step - loss: 4.7925e-05 - accuracy: 1.0000 - val_loss: 1.7758 - val_accuracy: 0.7770\n",
            "Epoch 62/100\n",
            "20/20 [==============================] - 10s 502ms/step - loss: 4.4134e-05 - accuracy: 1.0000 - val_loss: 1.7770 - val_accuracy: 0.7750\n",
            "Epoch 63/100\n",
            "20/20 [==============================] - 10s 501ms/step - loss: 4.0928e-05 - accuracy: 1.0000 - val_loss: 1.7802 - val_accuracy: 0.7740\n",
            "Epoch 64/100\n",
            "20/20 [==============================] - 10s 502ms/step - loss: 3.7655e-05 - accuracy: 1.0000 - val_loss: 1.7976 - val_accuracy: 0.7750\n",
            "Epoch 65/100\n",
            "20/20 [==============================] - 10s 505ms/step - loss: 3.5089e-05 - accuracy: 1.0000 - val_loss: 1.7980 - val_accuracy: 0.7740\n",
            "Epoch 66/100\n",
            "20/20 [==============================] - 10s 508ms/step - loss: 3.2270e-05 - accuracy: 1.0000 - val_loss: 1.8077 - val_accuracy: 0.7740\n",
            "Epoch 67/100\n",
            "20/20 [==============================] - 10s 504ms/step - loss: 3.0051e-05 - accuracy: 1.0000 - val_loss: 1.8129 - val_accuracy: 0.7730\n",
            "Epoch 68/100\n",
            "20/20 [==============================] - 10s 498ms/step - loss: 2.8020e-05 - accuracy: 1.0000 - val_loss: 1.8244 - val_accuracy: 0.7730\n",
            "Epoch 69/100\n",
            "20/20 [==============================] - 10s 500ms/step - loss: 2.6095e-05 - accuracy: 1.0000 - val_loss: 1.8337 - val_accuracy: 0.7720\n",
            "Epoch 70/100\n",
            "20/20 [==============================] - 10s 500ms/step - loss: 2.4495e-05 - accuracy: 1.0000 - val_loss: 1.8322 - val_accuracy: 0.7710\n",
            "Epoch 71/100\n",
            "20/20 [==============================] - 10s 501ms/step - loss: 2.3457e-05 - accuracy: 1.0000 - val_loss: 1.8528 - val_accuracy: 0.7720\n",
            "Epoch 72/100\n",
            "20/20 [==============================] - 10s 500ms/step - loss: 2.1661e-05 - accuracy: 1.0000 - val_loss: 1.8553 - val_accuracy: 0.7720\n",
            "Epoch 73/100\n",
            "20/20 [==============================] - 10s 503ms/step - loss: 2.0277e-05 - accuracy: 1.0000 - val_loss: 1.8622 - val_accuracy: 0.7720\n",
            "Epoch 74/100\n",
            "20/20 [==============================] - 10s 508ms/step - loss: 1.9297e-05 - accuracy: 1.0000 - val_loss: 1.8594 - val_accuracy: 0.7710\n",
            "Epoch 75/100\n",
            "20/20 [==============================] - 10s 507ms/step - loss: 1.8062e-05 - accuracy: 1.0000 - val_loss: 1.8726 - val_accuracy: 0.7740\n",
            "Epoch 76/100\n",
            "20/20 [==============================] - 10s 502ms/step - loss: 1.7144e-05 - accuracy: 1.0000 - val_loss: 1.8777 - val_accuracy: 0.7740\n",
            "Epoch 77/100\n",
            "20/20 [==============================] - 10s 500ms/step - loss: 1.6172e-05 - accuracy: 1.0000 - val_loss: 1.8880 - val_accuracy: 0.7740\n",
            "Epoch 78/100\n",
            "20/20 [==============================] - 10s 499ms/step - loss: 1.5482e-05 - accuracy: 1.0000 - val_loss: 1.8983 - val_accuracy: 0.7720\n",
            "Epoch 79/100\n",
            "20/20 [==============================] - 10s 504ms/step - loss: 1.4730e-05 - accuracy: 1.0000 - val_loss: 1.8993 - val_accuracy: 0.7750\n",
            "Epoch 80/100\n",
            "20/20 [==============================] - 10s 500ms/step - loss: 1.3906e-05 - accuracy: 1.0000 - val_loss: 1.9000 - val_accuracy: 0.7740\n",
            "Epoch 81/100\n",
            "20/20 [==============================] - 10s 504ms/step - loss: 1.3309e-05 - accuracy: 1.0000 - val_loss: 1.9083 - val_accuracy: 0.7740\n",
            "Epoch 82/100\n",
            "20/20 [==============================] - 10s 502ms/step - loss: 1.2734e-05 - accuracy: 1.0000 - val_loss: 1.9173 - val_accuracy: 0.7730\n",
            "Epoch 83/100\n",
            "20/20 [==============================] - 10s 494ms/step - loss: 1.2225e-05 - accuracy: 1.0000 - val_loss: 1.9253 - val_accuracy: 0.7730\n",
            "Epoch 84/100\n",
            "20/20 [==============================] - 10s 494ms/step - loss: 1.1558e-05 - accuracy: 1.0000 - val_loss: 1.9247 - val_accuracy: 0.7720\n",
            "Epoch 85/100\n",
            "20/20 [==============================] - 10s 499ms/step - loss: 1.1045e-05 - accuracy: 1.0000 - val_loss: 1.9338 - val_accuracy: 0.7730\n",
            "Epoch 86/100\n",
            "20/20 [==============================] - 10s 501ms/step - loss: 1.0612e-05 - accuracy: 1.0000 - val_loss: 1.9358 - val_accuracy: 0.7720\n",
            "Epoch 87/100\n",
            "20/20 [==============================] - 10s 497ms/step - loss: 1.0124e-05 - accuracy: 1.0000 - val_loss: 1.9436 - val_accuracy: 0.7730\n",
            "Epoch 88/100\n",
            "20/20 [==============================] - 10s 497ms/step - loss: 9.7427e-06 - accuracy: 1.0000 - val_loss: 1.9483 - val_accuracy: 0.7720\n",
            "Epoch 89/100\n",
            "20/20 [==============================] - 10s 497ms/step - loss: 9.3435e-06 - accuracy: 1.0000 - val_loss: 1.9481 - val_accuracy: 0.7720\n",
            "Epoch 90/100\n",
            "20/20 [==============================] - 10s 496ms/step - loss: 9.1255e-06 - accuracy: 1.0000 - val_loss: 1.9680 - val_accuracy: 0.7730\n",
            "Epoch 91/100\n",
            "20/20 [==============================] - 10s 500ms/step - loss: 8.7698e-06 - accuracy: 1.0000 - val_loss: 1.9618 - val_accuracy: 0.7730\n",
            "Epoch 92/100\n",
            "20/20 [==============================] - 10s 500ms/step - loss: 8.3583e-06 - accuracy: 1.0000 - val_loss: 1.9680 - val_accuracy: 0.7720\n",
            "Epoch 93/100\n",
            "20/20 [==============================] - 10s 495ms/step - loss: 8.0320e-06 - accuracy: 1.0000 - val_loss: 1.9686 - val_accuracy: 0.7700\n",
            "Epoch 94/100\n",
            "20/20 [==============================] - 10s 497ms/step - loss: 7.7597e-06 - accuracy: 1.0000 - val_loss: 1.9782 - val_accuracy: 0.7730\n",
            "Epoch 95/100\n",
            "20/20 [==============================] - 10s 502ms/step - loss: 7.4132e-06 - accuracy: 1.0000 - val_loss: 1.9707 - val_accuracy: 0.7700\n",
            "Epoch 96/100\n",
            "20/20 [==============================] - 10s 502ms/step - loss: 7.2291e-06 - accuracy: 1.0000 - val_loss: 1.9902 - val_accuracy: 0.7720\n",
            "Epoch 97/100\n",
            "20/20 [==============================] - 10s 495ms/step - loss: 6.8860e-06 - accuracy: 1.0000 - val_loss: 1.9873 - val_accuracy: 0.7690\n",
            "Epoch 98/100\n",
            "20/20 [==============================] - 10s 497ms/step - loss: 6.6532e-06 - accuracy: 1.0000 - val_loss: 1.9932 - val_accuracy: 0.7700\n",
            "Epoch 99/100\n",
            "20/20 [==============================] - 10s 500ms/step - loss: 6.3957e-06 - accuracy: 1.0000 - val_loss: 2.0048 - val_accuracy: 0.7730\n",
            "Epoch 100/100\n",
            "20/20 [==============================] - 10s 498ms/step - loss: 6.2100e-06 - accuracy: 1.0000 - val_loss: 2.0035 - val_accuracy: 0.7700\n"
          ]
        }
      ]
    },
    {
      "cell_type": "markdown",
      "metadata": {
        "id": "ojJNteAGVrWo"
      },
      "source": [
        "### Visualizing results of the training"
      ]
    },
    {
      "cell_type": "markdown",
      "metadata": {
        "id": "LZPYT-EmVrWo"
      },
      "source": [
        "We'll now visualize the results we get after training our network."
      ]
    },
    {
      "cell_type": "code",
      "metadata": {
        "id": "K6oA77ADVrWp",
        "outputId": "92a3f198-1412-48e6-ae36-2c141166d329",
        "colab": {
          "base_uri": "https://localhost:8080/"
        }
      },
      "source": [
        "acc = history.history['accuracy']\n",
        "val_acc = history.history['val_accuracy']\n",
        "\n",
        "loss = history.history['loss']\n",
        "val_loss = history.history['val_loss']\n",
        "\n",
        "epochs_range = range(EPOCHS)\n",
        "\n",
        "plt.figure(figsize=(8, 8))\n",
        "plt.subplot(1, 2, 1)\n",
        "plt.plot(epochs_range, acc, label='Training Accuracy')\n",
        "plt.plot(epochs_range, val_acc, label='Validation Accuracy')\n",
        "plt.legend(loc='lower right')\n",
        "plt.title('Training and Validation Accuracy')\n",
        "\n",
        "plt.subplot(1, 2, 2)\n",
        "plt.plot(epochs_range, loss, label='Training Loss')\n",
        "plt.plot(epochs_range, val_loss, label='Validation Loss')\n",
        "plt.legend(loc='upper right')\n",
        "plt.title('Training and Validation Loss')\n",
        "plt.savefig('./foo.png')\n",
        "plt.show()"
      ],
      "execution_count": 22,
      "outputs": [
        {
          "output_type": "display_data",
          "data": {
            "image/png": "[encoded data removed]",
            "text/plain": [
              "<Figure size 576x576 with 2 Axes>"
            ]
          },
          "metadata": {
            "needs_background": "light"
          }
        }
      ]
    },
    {
      "cell_type": "markdown",
      "metadata": {
        "id": "kDnr50l2VrWu"
      },
      "source": [
        "As we can see from the plots, training accuracy and validation accuracy are off by large margin and our model has achieved only around **70%** accuracy on the validation set (depending on the number of epochs you trained for).\n",
        "\n",
        "This is a clear indication of overfitting. Once the training and validation curves start to diverge, our model has started to memorize the training data and is unable to perform well on the validation data."
      ]
    }
  ]
}